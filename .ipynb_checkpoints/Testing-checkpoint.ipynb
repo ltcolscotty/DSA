{
 "cells": [
  {
   "cell_type": "code",
   "execution_count": 1,
   "id": "1e972460-cfe9-4c6d-b177-dd2380bfc089",
   "metadata": {},
   "outputs": [],
   "source": [
    "from Node import BinaryNode\n",
    "from Tree import GeneralTree"
   ]
  },
  {
   "cell_type": "code",
   "execution_count": 5,
   "id": "29c40456-577b-4413-81d0-1d450edfabd3",
   "metadata": {},
   "outputs": [
    {
     "name": "stdout",
     "output_type": "stream",
     "text": [
      "a\n",
      "b\n",
      "c\n",
      "d\n",
      "e\n",
      "f\n",
      "g\n",
      "h\n"
     ]
    }
   ],
   "source": [
    "test = ['a', 'b', 'c', 'd', 'e', 'f', 'g', 'h']\n",
    "\n",
    "def get_left(i):\n",
    "    return (2 * i) + 1\n",
    "\n",
    "def get_right(i):\n",
    "    return (2 * i) + 2\n",
    "\n",
    "t = GeneralTree()\n",
    "t.root = BinaryNode(test[0])\n",
    "\n",
    "for idx, item in enumerate(test):\n",
    "    l_idx = get_left(idx)\n",
    "    r_idx = get_right(idx)\n",
    "\n",
    "    parent = t.BFS(item)\n",
    "\n",
    "    if parent is not None:\n",
    "\n",
    "        left_node\n",
    "        right_node\n",
    "        if l_idx < len(test):\n",
    "            left_node = BinaryNode(test[l_idx])\n",
    "        else:s\n",
    "            left_node = None\n",
    "\n",
    "        if r_idx < len(test):\n",
    "            right_node = BinaryNode(test[r_idx])\n",
    "        else:\n",
    "            right_node = None\n",
    "        \n",
    "        parent.left = left_node\n",
    "        parent.right = right_node\n",
    "\n",
    "t.printOriginArray()"
   ]
  },
  {
   "cell_type": "code",
   "execution_count": null,
   "id": "12dfb360-96ba-4e9d-8019-1db10cdf9dbb",
   "metadata": {},
   "outputs": [],
   "source": []
  }
 ],
 "metadata": {
  "kernelspec": {
   "display_name": "Python 3 (ipykernel)",
   "language": "python",
   "name": "python3"
  },
  "language_info": {
   "codemirror_mode": {
    "name": "ipython",
    "version": 3
   },
   "file_extension": ".py",
   "mimetype": "text/x-python",
   "name": "python",
   "nbconvert_exporter": "python",
   "pygments_lexer": "ipython3",
   "version": "3.11.5"
  }
 },
 "nbformat": 4,
 "nbformat_minor": 5
}
