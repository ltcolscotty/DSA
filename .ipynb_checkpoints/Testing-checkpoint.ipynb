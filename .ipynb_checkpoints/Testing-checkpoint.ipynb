{
 "cells": [
  {
   "cell_type": "code",
   "execution_count": 1,
   "id": "1e972460-cfe9-4c6d-b177-dd2380bfc089",
   "metadata": {},
   "outputs": [],
   "source": [
    "from Node import BinaryNode\n",
    "from Tree import GeneralTree"
   ]
  },
  {
   "cell_type": "code",
   "execution_count": 5,
   "id": "29c40456-577b-4413-81d0-1d450edfabd3",
   "metadata": {},
   "outputs": [
    {
     "ename": "AttributeError",
     "evalue": "'str' object has no attribute 'data'",
     "output_type": "error",
     "traceback": [
      "\u001b[1;31m---------------------------------------------------------------------------\u001b[0m",
      "\u001b[1;31mAttributeError\u001b[0m                            Traceback (most recent call last)",
      "Cell \u001b[1;32mIn[5], line 16\u001b[0m\n\u001b[0;32m     13\u001b[0m l_idx \u001b[38;5;241m=\u001b[39m get_left(idx)\n\u001b[0;32m     14\u001b[0m r_idx \u001b[38;5;241m=\u001b[39m get_right(idx)\n\u001b[1;32m---> 16\u001b[0m parent \u001b[38;5;241m=\u001b[39m \u001b[43mt\u001b[49m\u001b[38;5;241;43m.\u001b[39;49m\u001b[43mBFS\u001b[49m\u001b[43m(\u001b[49m\u001b[43mitem\u001b[49m\u001b[43m)\u001b[49m\n\u001b[0;32m     17\u001b[0m \u001b[38;5;28;01mif\u001b[39;00m parent \u001b[38;5;129;01mis\u001b[39;00m \u001b[38;5;129;01mnot\u001b[39;00m \u001b[38;5;28;01mNone\u001b[39;00m:\n\u001b[0;32m     19\u001b[0m     left_node \u001b[38;5;241m=\u001b[39m BinaryNode(item, test[l_idx])\n",
      "File \u001b[1;32m~\\OneDrive\\Desktop\\programming_projects\\DSA\\Tree.py:23\u001b[0m, in \u001b[0;36mGeneralTree.BFS\u001b[1;34m(self, data)\u001b[0m\n\u001b[0;32m     20\u001b[0m \u001b[38;5;28;01mwhile\u001b[39;00m \u001b[38;5;129;01mnot\u001b[39;00m q\u001b[38;5;241m.\u001b[39misEmpty():\n\u001b[0;32m     21\u001b[0m     curNode \u001b[38;5;241m=\u001b[39m q\u001b[38;5;241m.\u001b[39mpop()\n\u001b[1;32m---> 23\u001b[0m     \u001b[38;5;28;01mif\u001b[39;00m \u001b[43mcurNode\u001b[49m\u001b[38;5;241;43m.\u001b[39;49m\u001b[43mdata\u001b[49m \u001b[38;5;241m==\u001b[39m data:\n\u001b[0;32m     24\u001b[0m         \u001b[38;5;28;01mreturn\u001b[39;00m curNode\n\u001b[0;32m     25\u001b[0m     \u001b[38;5;28;01melse\u001b[39;00m:\n",
      "\u001b[1;31mAttributeError\u001b[0m: 'str' object has no attribute 'data'"
     ]
    }
   ],
   "source": [
    "test = ['a', 'b', 'c', 'd', 'e', 'f', 'g', 'h']\n",
    "\n",
    "def get_left(i):\n",
    "    return (2 * i) + 1\n",
    "\n",
    "def get_right(i):\n",
    "    return (2 * i) + 2\n",
    "\n",
    "t = GeneralTree()\n",
    "t.root = BinaryNode(test[0])\n",
    "\n",
    "print(t.root)\n",
    "\n",
    "for idx, item in enumerate(test):\n",
    "    l_idx = get_left(idx)\n",
    "    r_idx = get_right(idx)\n",
    "\n",
    "    parent = t.BFS(item)\n",
    "    if parent is not None:\n",
    "\n",
    "        left_node = BinaryNode(item, test[l_idx])\n",
    "        right_node = BinaryNode(item, test[r_idx])\n",
    "    \n",
    "        parent.left = left_node\n",
    "        parent.right = right_node\n",
    "\n",
    "t.printOriginArray()"
   ]
  },
  {
   "cell_type": "code",
   "execution_count": null,
   "id": "12dfb360-96ba-4e9d-8019-1db10cdf9dbb",
   "metadata": {},
   "outputs": [],
   "source": []
  }
 ],
 "metadata": {
  "kernelspec": {
   "display_name": "Python 3 (ipykernel)",
   "language": "python",
   "name": "python3"
  },
  "language_info": {
   "codemirror_mode": {
    "name": "ipython",
    "version": 3
   },
   "file_extension": ".py",
   "mimetype": "text/x-python",
   "name": "python",
   "nbconvert_exporter": "python",
   "pygments_lexer": "ipython3",
   "version": "3.11.5"
  }
 },
 "nbformat": 4,
 "nbformat_minor": 5
}
