{
 "cells": [
  {
   "cell_type": "code",
   "execution_count": 10,
   "id": "1e972460-cfe9-4c6d-b177-dd2380bfc089",
   "metadata": {},
   "outputs": [],
   "source": [
    "from Node import BinaryNode\n",
    "from Tree import GeneralTree"
   ]
  },
  {
   "cell_type": "code",
   "execution_count": 11,
   "id": "29c40456-577b-4413-81d0-1d450edfabd3",
   "metadata": {},
   "outputs": [
    {
     "ename": "NameError",
     "evalue": "name 'BFS' is not defined",
     "output_type": "error",
     "traceback": [
      "\u001b[1;31m---------------------------------------------------------------------------\u001b[0m",
      "\u001b[1;31mNameError\u001b[0m                                 Traceback (most recent call last)",
      "Cell \u001b[1;32mIn[11], line 16\u001b[0m\n\u001b[0;32m     13\u001b[0m l_idx \u001b[38;5;241m=\u001b[39m get_left(idx)\n\u001b[0;32m     14\u001b[0m r_idx \u001b[38;5;241m=\u001b[39m get_right(idx)\n\u001b[1;32m---> 16\u001b[0m parent \u001b[38;5;241m=\u001b[39m \u001b[43mBFS\u001b[49m(item)\n\u001b[0;32m     18\u001b[0m left_node \u001b[38;5;241m=\u001b[39m BinaryNode(item, test[l_idx])\n\u001b[0;32m     19\u001b[0m right_node \u001b[38;5;241m=\u001b[39m BinaryNode(item, test[r_idx])\n",
      "\u001b[1;31mNameError\u001b[0m: name 'BFS' is not defined"
     ]
    }
   ],
   "source": [
    "test = ['a', 'b', 'c', 'd', 'e', 'f', 'g', 'h']\n",
    "\n",
    "def get_left(i):\n",
    "    return (2 * i) + 1\n",
    "\n",
    "def get_right(i):\n",
    "    return (2 * i) + 2\n",
    "\n",
    "t = GeneralTree()\n",
    "t.root = BinaryNode(test[0])\n",
    "\n",
    "for idx, item in enumerate(test[1:]):\n",
    "    l_idx = get_left(idx)\n",
    "    r_idx = get_right(idx)\n",
    "\n",
    "    parent = t.BFS(item)\n",
    "    \n",
    "    left_node = BinaryNode(item, test[l_idx])\n",
    "    right_node = BinaryNode(item, test[r_idx])\n",
    "\n",
    "    parent.left = left_node\n",
    "    parent.right = right_node\n",
    "\n",
    "t.printOriginArray()"
   ]
  },
  {
   "cell_type": "code",
   "execution_count": null,
   "id": "12dfb360-96ba-4e9d-8019-1db10cdf9dbb",
   "metadata": {},
   "outputs": [],
   "source": []
  }
 ],
 "metadata": {
  "kernelspec": {
   "display_name": "Python 3 (ipykernel)",
   "language": "python",
   "name": "python3"
  },
  "language_info": {
   "codemirror_mode": {
    "name": "ipython",
    "version": 3
   },
   "file_extension": ".py",
   "mimetype": "text/x-python",
   "name": "python",
   "nbconvert_exporter": "python",
   "pygments_lexer": "ipython3",
   "version": "3.11.5"
  }
 },
 "nbformat": 4,
 "nbformat_minor": 5
}
