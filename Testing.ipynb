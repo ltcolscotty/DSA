{
 "cells": [
  {
   "cell_type": "code",
   "execution_count": 7,
   "id": "1e972460-cfe9-4c6d-b177-dd2380bfc089",
   "metadata": {},
   "outputs": [],
   "source": [
    "from Node import BinaryNode"
   ]
  },
  {
   "cell_type": "code",
   "execution_count": 8,
   "id": "29c40456-577b-4413-81d0-1d450edfabd3",
   "metadata": {},
   "outputs": [],
   "source": [
    "test = ['a', 'b', 'c', 'd', 'e', 'f', 'g', 'h']\n",
    "\n",
    "def get_left(i):\n",
    "    return (2 * i) + 1\n",
    "\n",
    "def get_right(i):\n",
    "    return (2 * i) + 2\n",
    "\n",
    "for idx, item in enumerate(test):\n",
    "    l_idx = get_left(idx)\n",
    "    r_idx = get_right(idx)\n",
    "\n",
    "    new_node = BinaryNode(item, )"
   ]
  },
  {
   "cell_type": "code",
   "execution_count": null,
   "id": "12dfb360-96ba-4e9d-8019-1db10cdf9dbb",
   "metadata": {},
   "outputs": [],
   "source": []
  }
 ],
 "metadata": {
  "kernelspec": {
   "display_name": "Python 3 (ipykernel)",
   "language": "python",
   "name": "python3"
  },
  "language_info": {
   "codemirror_mode": {
    "name": "ipython",
    "version": 3
   },
   "file_extension": ".py",
   "mimetype": "text/x-python",
   "name": "python",
   "nbconvert_exporter": "python",
   "pygments_lexer": "ipython3",
   "version": "3.11.5"
  }
 },
 "nbformat": 4,
 "nbformat_minor": 5
}
